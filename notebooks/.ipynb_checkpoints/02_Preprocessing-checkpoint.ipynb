{
 "cells": [
  {
   "cell_type": "markdown",
   "id": "8431a582",
   "metadata": {},
   "source": [
    "<div style=\"text-align: center; background-color: #750E21; font-family: 'Trebuchet MS', Arial, sans-serif; color: white; padding: 20px; font-size: 40px; font-weight: bold; border-radius: 0 0 0 0; box-shadow: 0px 6px 8px rgba(0, 0, 0, 0.2);\">\n",
    "  FINAL PROJECT: RESEARCHING ON MUSIC TASTE WORDWIDELY 📌\n",
    "</div>"
   ]
  },
  {
   "cell_type": "markdown",
   "id": "aa459eec",
   "metadata": {},
   "source": [
    "<div style=\"text-align: center; background-color: #0766AD; font-family: 'Trebuchet MS', Arial, sans-serif; color: white; padding: 20px; font-size: 40px; font-weight: bold; border-radius: 0 0 0 0; box-shadow: 0px 6px 8px rgba(0, 0, 0, 0.2);\">\n",
    "  Stage 02 - Preprocessing 📌\n",
    "</div>"
   ]
  },
  {
   "cell_type": "markdown",
   "id": "1b6e3266",
   "metadata": {},
   "source": [
    "## Import"
   ]
  },
  {
   "cell_type": "code",
   "execution_count": 1,
   "id": "44058759",
   "metadata": {},
   "outputs": [],
   "source": [
    "import numpy as np\n",
    "import pandas as pd"
   ]
  },
  {
   "cell_type": "markdown",
   "id": "87aae079",
   "metadata": {},
   "source": [
    "## Exploring data"
   ]
  },
  {
   "cell_type": "markdown",
   "id": "4f2b1f31",
   "metadata": {},
   "source": [
    "### Read raw data from file"
   ]
  },
  {
   "cell_type": "code",
   "execution_count": 19,
   "id": "05183221",
   "metadata": {},
   "outputs": [
    {
     "data": {
      "text/html": [
       "<div>\n",
       "<style scoped>\n",
       "    .dataframe tbody tr th:only-of-type {\n",
       "        vertical-align: middle;\n",
       "    }\n",
       "\n",
       "    .dataframe tbody tr th {\n",
       "        vertical-align: top;\n",
       "    }\n",
       "\n",
       "    .dataframe thead th {\n",
       "        text-align: right;\n",
       "    }\n",
       "</style>\n",
       "<table border=\"1\" class=\"dataframe\">\n",
       "  <thead>\n",
       "    <tr style=\"text-align: right;\">\n",
       "      <th></th>\n",
       "      <th>Id</th>\n",
       "      <th>View</th>\n",
       "      <th>Like</th>\n",
       "      <th>Duration</th>\n",
       "      <th>Channel_name</th>\n",
       "      <th>Subscriber</th>\n",
       "      <th>Country</th>\n",
       "      <th>Publish_time</th>\n",
       "      <th>Hasgtag</th>\n",
       "      <th>Title</th>\n",
       "      <th>Most view per day</th>\n",
       "      <th>Most-view-date</th>\n",
       "      <th>Highest rank</th>\n",
       "      <th>Time to Highest rank</th>\n",
       "      <th>Charted-duration</th>\n",
       "    </tr>\n",
       "  </thead>\n",
       "  <tbody>\n",
       "    <tr>\n",
       "      <th>0</th>\n",
       "      <td>9bZkp7q19f0</td>\n",
       "      <td>4.977100e+09</td>\n",
       "      <td>27830052.0</td>\n",
       "      <td>0:04:13</td>\n",
       "      <td>officialpsy</td>\n",
       "      <td>18400000.0</td>\n",
       "      <td>NaN</td>\n",
       "      <td>2012-07-15 07:46:32</td>\n",
       "      <td>4.0</td>\n",
       "      <td>PSY - GANGNAM STYLE(강남스타일) M/V</td>\n",
       "      <td>14924298</td>\n",
       "      <td>2012/12/21</td>\n",
       "      <td>1.0</td>\n",
       "      <td>36.0</td>\n",
       "      <td>482.0</td>\n",
       "    </tr>\n",
       "    <tr>\n",
       "      <th>1</th>\n",
       "      <td>hT_nvWreIhg</td>\n",
       "      <td>3.927344e+09</td>\n",
       "      <td>17491157.0</td>\n",
       "      <td>0:04:44</td>\n",
       "      <td>OneRepublicVEVO</td>\n",
       "      <td>5470000.0</td>\n",
       "      <td>NaN</td>\n",
       "      <td>2013-05-31 07:00:36</td>\n",
       "      <td>2.0</td>\n",
       "      <td>OneRepublic - Counting Stars</td>\n",
       "      <td>3288973</td>\n",
       "      <td>2018/11/10</td>\n",
       "      <td>4.0</td>\n",
       "      <td>NaN</td>\n",
       "      <td>482.0</td>\n",
       "    </tr>\n",
       "    <tr>\n",
       "      <th>2</th>\n",
       "      <td>JGwWNGJdvx8</td>\n",
       "      <td>6.149237e+09</td>\n",
       "      <td>32323841.0</td>\n",
       "      <td>0:04:24</td>\n",
       "      <td>Ed Sheeran</td>\n",
       "      <td>53900000.0</td>\n",
       "      <td>NaN</td>\n",
       "      <td>2017-01-30 10:57:50</td>\n",
       "      <td>3.0</td>\n",
       "      <td>Ed Sheeran - Shape of You (Official Music Video)</td>\n",
       "      <td>14390704</td>\n",
       "      <td>2017/05/13</td>\n",
       "      <td>1.0</td>\n",
       "      <td>4.0</td>\n",
       "      <td>356.0</td>\n",
       "    </tr>\n",
       "    <tr>\n",
       "      <th>3</th>\n",
       "      <td>lp-EO5I60KA</td>\n",
       "      <td>3.700048e+09</td>\n",
       "      <td>14912926.0</td>\n",
       "      <td>0:04:57</td>\n",
       "      <td>Ed Sheeran</td>\n",
       "      <td>53900000.0</td>\n",
       "      <td>NaN</td>\n",
       "      <td>2014-10-07 13:57:37</td>\n",
       "      <td>3.0</td>\n",
       "      <td>Ed Sheeran - Thinking Out Loud (Official Music...</td>\n",
       "      <td>3771622</td>\n",
       "      <td>2015/02/14</td>\n",
       "      <td>3.0</td>\n",
       "      <td>1.0</td>\n",
       "      <td>304.0</td>\n",
       "    </tr>\n",
       "    <tr>\n",
       "      <th>4</th>\n",
       "      <td>CevxZvSJLk8</td>\n",
       "      <td>3.918655e+09</td>\n",
       "      <td>16596026.0</td>\n",
       "      <td>0:04:30</td>\n",
       "      <td>KatyPerryVEVO</td>\n",
       "      <td>24600000.0</td>\n",
       "      <td>US</td>\n",
       "      <td>2013-09-05 20:00:22</td>\n",
       "      <td>0.0</td>\n",
       "      <td>Katy Perry - Roar</td>\n",
       "      <td>11294380</td>\n",
       "      <td>2013/09/07</td>\n",
       "      <td>2.0</td>\n",
       "      <td>5.0</td>\n",
       "      <td>445.0</td>\n",
       "    </tr>\n",
       "  </tbody>\n",
       "</table>\n",
       "</div>"
      ],
      "text/plain": [
       "            Id          View        Like Duration     Channel_name  \\\n",
       "0  9bZkp7q19f0  4.977100e+09  27830052.0  0:04:13      officialpsy   \n",
       "1  hT_nvWreIhg  3.927344e+09  17491157.0  0:04:44  OneRepublicVEVO   \n",
       "2  JGwWNGJdvx8  6.149237e+09  32323841.0  0:04:24       Ed Sheeran   \n",
       "3  lp-EO5I60KA  3.700048e+09  14912926.0  0:04:57       Ed Sheeran   \n",
       "4  CevxZvSJLk8  3.918655e+09  16596026.0  0:04:30    KatyPerryVEVO   \n",
       "\n",
       "   Subscriber Country         Publish_time  Hasgtag  \\\n",
       "0  18400000.0     NaN  2012-07-15 07:46:32      4.0   \n",
       "1   5470000.0     NaN  2013-05-31 07:00:36      2.0   \n",
       "2  53900000.0     NaN  2017-01-30 10:57:50      3.0   \n",
       "3  53900000.0     NaN  2014-10-07 13:57:37      3.0   \n",
       "4  24600000.0      US  2013-09-05 20:00:22      0.0   \n",
       "\n",
       "                                               Title  Most view per day  \\\n",
       "0                     PSY - GANGNAM STYLE(강남스타일) M/V           14924298   \n",
       "1                       OneRepublic - Counting Stars            3288973   \n",
       "2   Ed Sheeran - Shape of You (Official Music Video)           14390704   \n",
       "3  Ed Sheeran - Thinking Out Loud (Official Music...            3771622   \n",
       "4                                  Katy Perry - Roar           11294380   \n",
       "\n",
       "  Most-view-date  Highest rank  Time to Highest rank  Charted-duration  \n",
       "0     2012/12/21           1.0                  36.0             482.0  \n",
       "1     2018/11/10           4.0                   NaN             482.0  \n",
       "2     2017/05/13           1.0                   4.0             356.0  \n",
       "3     2015/02/14           3.0                   1.0             304.0  \n",
       "4     2013/09/07           2.0                   5.0             445.0  "
      ]
     },
     "execution_count": 19,
     "metadata": {},
     "output_type": "execute_result"
    }
   ],
   "source": [
    "raw_df = pd.read_csv('../data/raw_youtube_kworb_data.csv')\n",
    "raw_df.head()"
   ]
  },
  {
   "cell_type": "markdown",
   "id": "09a2b5ba",
   "metadata": {},
   "source": [
    "### How many rows and how many columns does the raw data have?"
   ]
  },
  {
   "cell_type": "markdown",
   "id": "7f9e9a22",
   "metadata": {},
   "source": [
    "First, we need to check the number of rows and columns to see if our data has at least 5 fields and 1000 observations."
   ]
  },
  {
   "cell_type": "code",
   "execution_count": 4,
   "id": "9c491e25",
   "metadata": {},
   "outputs": [],
   "source": [
    "shape = raw_df.shape"
   ]
  },
  {
   "cell_type": "code",
   "execution_count": 5,
   "id": "74dc93a4",
   "metadata": {},
   "outputs": [
    {
     "name": "stdout",
     "output_type": "stream",
     "text": [
      "Current shape: (2500, 15)\n",
      "Our data is good!.\n"
     ]
    }
   ],
   "source": [
    "# TEST\n",
    "print(f\"Current shape: {shape}\")\n",
    "\n",
    "if ((shape[0] >= 1000) & (shape[1] >= 5)):\n",
    "    print(f\"Our data is good!.\")\n",
    "else:\n",
    "    print(f\"May be we need to crawl data again.!\")"
   ]
  },
  {
   "cell_type": "markdown",
   "id": "a0c004b0",
   "metadata": {},
   "source": [
    "### What does each line mean? Does it matter if the lines have different meanings?"
   ]
  },
  {
   "cell_type": "markdown",
   "id": "16e68d15",
   "metadata": {},
   "source": [
    "Understand the meaning of each line gives us a more overall understanding of the data. What our data is talking about or .   \n",
    "If some lines of data have different meanings, it will lead to the unconsistency of data and giving wrong insights."
   ]
  },
  {
   "cell_type": "markdown",
   "id": "014554d4",
   "metadata": {},
   "source": [
    "In our data, each line contains data of a youtube music video with a specific id."
   ]
  },
  {
   "cell_type": "markdown",
   "id": "5c3a2ed7",
   "metadata": {},
   "source": [
    "### Does the raw data have duplicate rows?"
   ]
  },
  {
   "cell_type": "markdown",
   "id": "b6071f73",
   "metadata": {},
   "source": [
    "We need to check for the duplicated rows since these rows don't have much meaning. Each line should differ from each others. Having duplicated rows could lead to wrong insights for questions required couting."
   ]
  },
  {
   "cell_type": "code",
   "execution_count": 8,
   "id": "f6ae4bc3",
   "metadata": {},
   "outputs": [],
   "source": [
    "index = raw_df.index\n",
    "detectDupSeries = index.duplicated(keep='first')\n",
    "num_duplicated_rows = detectDupSeries.sum()"
   ]
  },
  {
   "cell_type": "code",
   "execution_count": 9,
   "id": "bf25efd8",
   "metadata": {},
   "outputs": [
    {
     "name": "stdout",
     "output_type": "stream",
     "text": [
      "Number of duplicated rows: 0\n"
     ]
    }
   ],
   "source": [
    "print(f'Number of duplicated rows: {num_duplicated_rows}')"
   ]
  },
  {
   "cell_type": "markdown",
   "id": "7ebd6bdd",
   "metadata": {},
   "source": [
    "Since our data doesn't contain duplicate rows, we don't need to remove them."
   ]
  },
  {
   "cell_type": "markdown",
   "id": "693d8f61",
   "metadata": {},
   "source": [
    "### What does each column mean?"
   ]
  },
  {
   "cell_type": "markdown",
   "id": "c9b67e69",
   "metadata": {},
   "source": [
    "Id:   \n",
    "View:   \n",
    "Like:   \n",
    "Duration:   \n",
    "Channel_name:   \n",
    "Subscriber:   \n",
    "Country:   \n",
    "Publish_time:   \n",
    "Hashtag:   \n",
    "Title:   \n",
    "Most view per day:   \n",
    "Most-view-date:   \n",
    "Highest rank:   \n",
    "Time to Highest rank:    \n",
    "Charted-duration:    "
   ]
  },
  {
   "cell_type": "markdown",
   "id": "1246e461",
   "metadata": {},
   "source": [
    "### What data type does each column currently have? Are there any columns whose data types are not suitable for further processing? "
   ]
  },
  {
   "cell_type": "markdown",
   "id": "2701a7bd",
   "metadata": {},
   "source": [
    "Next we will take a look at the data type of each column."
   ]
  },
  {
   "cell_type": "code",
   "execution_count": 10,
   "id": "e126ed4f",
   "metadata": {},
   "outputs": [],
   "source": [
    "dtypes = raw_df.dtypes"
   ]
  },
  {
   "cell_type": "code",
   "execution_count": 11,
   "id": "370a9dc0",
   "metadata": {},
   "outputs": [
    {
     "data": {
      "text/plain": [
       "Id                       object\n",
       "View                    float64\n",
       "Like                    float64\n",
       "Duration                 object\n",
       "Channel_name             object\n",
       "Subscriber              float64\n",
       "Country                  object\n",
       "Publish_time             object\n",
       "Hasgtag                 float64\n",
       "Title                    object\n",
       "Most view per day         int64\n",
       "Most-view-date           object\n",
       "Highest rank            float64\n",
       "Time to Highest rank    float64\n",
       "Charted-duration        float64\n",
       "dtype: object"
      ]
     },
     "execution_count": 11,
     "metadata": {},
     "output_type": "execute_result"
    }
   ],
   "source": [
    "dtypes"
   ]
  },
  {
   "cell_type": "markdown",
   "id": "3f98f629",
   "metadata": {},
   "source": [
    "`Most-view_date` and `Publish_time` are problaly date-time data type, so we should convert these 2 columns into date-time. "
   ]
  },
  {
   "cell_type": "code",
   "execution_count": null,
   "id": "1d47c282",
   "metadata": {},
   "outputs": [],
   "source": []
  },
  {
   "cell_type": "markdown",
   "id": "149b28cf",
   "metadata": {},
   "source": [
    "`View`, `Like`, `Subscriber`, `Hashtag`, `Highest rank`, `Time to Highest rank` and `Charted-duration` can be observes as integer data type. So we should convert these columns into integer."
   ]
  },
  {
   "cell_type": "code",
   "execution_count": 30,
   "id": "776a0613",
   "metadata": {},
   "outputs": [],
   "source": [
    "def convert_to_int(value):\n",
    "    try:\n",
    "        return int(value)\n",
    "    except ValueError:\n",
    "        return None\n",
    "\n",
    "raw_df['View'] = raw_df['View'].apply(convert_to_int)\n",
    "raw_df['Like'] = raw_df['Like'].apply(convert_to_int)\n",
    "raw_df['Subscriber'] = raw_df['Subscriber'].apply(convert_to_int)\n",
    "raw_df['Hasgtag'] = raw_df['Hasgtag'].apply(convert_to_int)\n",
    "raw_df['Highest rank'] = raw_df['Highest rank'].apply(convert_to_int)\n",
    "raw_df['Time to Highest rank'] = raw_df['Time to Highest rank'].apply(convert_to_int)\n",
    "raw_df['Charted-duration'] = raw_df['Charted-duration'].apply(convert_to_int)"
   ]
  },
  {
   "cell_type": "markdown",
   "id": "f16c85fc",
   "metadata": {},
   "source": [
    "Now let's take a look again the data types of each column."
   ]
  },
  {
   "cell_type": "code",
   "execution_count": 31,
   "id": "61fe2ecd",
   "metadata": {},
   "outputs": [
    {
     "data": {
      "text/plain": [
       "Id                       object\n",
       "View                    float64\n",
       "Like                    float64\n",
       "Duration                 object\n",
       "Channel_name             object\n",
       "Subscriber              float64\n",
       "Country                  object\n",
       "Publish_time             object\n",
       "Hasgtag                 float64\n",
       "Title                    object\n",
       "Most view per day         int64\n",
       "Most-view-date           object\n",
       "Highest rank            float64\n",
       "Time to Highest rank    float64\n",
       "Charted-duration        float64\n",
       "dtype: object"
      ]
     },
     "execution_count": 31,
     "metadata": {},
     "output_type": "execute_result"
    }
   ],
   "source": [
    "raw_df.dtypes"
   ]
  },
  {
   "cell_type": "markdown",
   "id": "edd503e6",
   "metadata": {},
   "source": [
    "We can see that although we try to convert the values of these columns into integer, their data types are still float64. This is beacause integer data type doesn't allow for `NaN` so if there is a `NaN` value in the column, the column data type will automatically converted to float."
   ]
  },
  {
   "cell_type": "markdown",
   "id": "21df97b4",
   "metadata": {},
   "source": [
    "### For each column with numeric data type, how are the values distributed?"
   ]
  },
  {
   "cell_type": "markdown",
   "id": "44274601",
   "metadata": {},
   "source": [
    "For columns with numeric data types, we will calculate:   \n",
    "- Percentage (from 0 to 100) of missing values\n",
    "- The min\n",
    "- The lower quartile (phân vị 25)\n",
    "- The median (phân vị 50)\n",
    "- The upper quartile (phân vị 75)\n",
    "- The max"
   ]
  },
  {
   "cell_type": "markdown",
   "id": "f3e1df8e",
   "metadata": {},
   "source": [
    "First we need to select columns with numeric data type."
   ]
  },
  {
   "cell_type": "code",
   "execution_count": 32,
   "id": "b622b871",
   "metadata": {},
   "outputs": [],
   "source": [
    "num_col_info_df = raw_df.select_dtypes(exclude='object')"
   ]
  },
  {
   "cell_type": "code",
   "execution_count": 33,
   "id": "2b7e7f75",
   "metadata": {},
   "outputs": [],
   "source": [
    "def missing_ratio(s):\n",
    "    return (s.isna().mean() * 100).round(1)\n",
    "\n",
    "def median(df):\n",
    "    return (df.quantile(0.5)).round(1)\n",
    "\n",
    "def lower_quartile(df):\n",
    "    return (df.quantile(0.25)).round(1)\n",
    "\n",
    "def upper_quartile(df):\n",
    "    return (df.quantile(0.75)).round(1)"
   ]
  },
  {
   "cell_type": "code",
   "execution_count": 34,
   "id": "554d192d",
   "metadata": {},
   "outputs": [
    {
     "data": {
      "text/html": [
       "<div>\n",
       "<style scoped>\n",
       "    .dataframe tbody tr th:only-of-type {\n",
       "        vertical-align: middle;\n",
       "    }\n",
       "\n",
       "    .dataframe tbody tr th {\n",
       "        vertical-align: top;\n",
       "    }\n",
       "\n",
       "    .dataframe thead th {\n",
       "        text-align: right;\n",
       "    }\n",
       "</style>\n",
       "<table border=\"1\" class=\"dataframe\">\n",
       "  <thead>\n",
       "    <tr style=\"text-align: right;\">\n",
       "      <th></th>\n",
       "      <th>View</th>\n",
       "      <th>Like</th>\n",
       "      <th>Subscriber</th>\n",
       "      <th>Hasgtag</th>\n",
       "      <th>Most view per day</th>\n",
       "      <th>Highest rank</th>\n",
       "      <th>Time to Highest rank</th>\n",
       "      <th>Charted-duration</th>\n",
       "    </tr>\n",
       "  </thead>\n",
       "  <tbody>\n",
       "    <tr>\n",
       "      <th>missing_ratio</th>\n",
       "      <td>4.000000e-01</td>\n",
       "      <td>0.5</td>\n",
       "      <td>0.4</td>\n",
       "      <td>0.4</td>\n",
       "      <td>0.0</td>\n",
       "      <td>25.0</td>\n",
       "      <td>87.2</td>\n",
       "      <td>25.0</td>\n",
       "    </tr>\n",
       "    <tr>\n",
       "      <th>min</th>\n",
       "      <td>3.244410e+08</td>\n",
       "      <td>471866.0</td>\n",
       "      <td>7330.0</td>\n",
       "      <td>0.0</td>\n",
       "      <td>141350.0</td>\n",
       "      <td>1.0</td>\n",
       "      <td>1.0</td>\n",
       "      <td>1.0</td>\n",
       "    </tr>\n",
       "    <tr>\n",
       "      <th>lower_quartile</th>\n",
       "      <td>3.982876e+08</td>\n",
       "      <td>2089275.2</td>\n",
       "      <td>2935000.0</td>\n",
       "      <td>0.0</td>\n",
       "      <td>765111.5</td>\n",
       "      <td>6.0</td>\n",
       "      <td>1.0</td>\n",
       "      <td>13.0</td>\n",
       "    </tr>\n",
       "    <tr>\n",
       "      <th>median</th>\n",
       "      <td>5.150177e+08</td>\n",
       "      <td>3129072.0</td>\n",
       "      <td>9160000.0</td>\n",
       "      <td>3.0</td>\n",
       "      <td>1837817.5</td>\n",
       "      <td>21.0</td>\n",
       "      <td>1.0</td>\n",
       "      <td>25.0</td>\n",
       "    </tr>\n",
       "    <tr>\n",
       "      <th>upper_quartile</th>\n",
       "      <td>7.857353e+08</td>\n",
       "      <td>5063792.2</td>\n",
       "      <td>24600000.0</td>\n",
       "      <td>4.0</td>\n",
       "      <td>4233410.5</td>\n",
       "      <td>58.0</td>\n",
       "      <td>3.0</td>\n",
       "      <td>47.0</td>\n",
       "    </tr>\n",
       "    <tr>\n",
       "      <th>max</th>\n",
       "      <td>8.327580e+09</td>\n",
       "      <td>52536744.0</td>\n",
       "      <td>254000000.0</td>\n",
       "      <td>81.0</td>\n",
       "      <td>88851354.0</td>\n",
       "      <td>200.0</td>\n",
       "      <td>36.0</td>\n",
       "      <td>622.0</td>\n",
       "    </tr>\n",
       "  </tbody>\n",
       "</table>\n",
       "</div>"
      ],
      "text/plain": [
       "                        View        Like   Subscriber  Hasgtag  \\\n",
       "missing_ratio   4.000000e-01         0.5          0.4      0.4   \n",
       "min             3.244410e+08    471866.0       7330.0      0.0   \n",
       "lower_quartile  3.982876e+08   2089275.2    2935000.0      0.0   \n",
       "median          5.150177e+08   3129072.0    9160000.0      3.0   \n",
       "upper_quartile  7.857353e+08   5063792.2   24600000.0      4.0   \n",
       "max             8.327580e+09  52536744.0  254000000.0     81.0   \n",
       "\n",
       "                Most view per day  Highest rank  Time to Highest rank  \\\n",
       "missing_ratio                 0.0          25.0                  87.2   \n",
       "min                      141350.0           1.0                   1.0   \n",
       "lower_quartile           765111.5           6.0                   1.0   \n",
       "median                  1837817.5          21.0                   1.0   \n",
       "upper_quartile          4233410.5          58.0                   3.0   \n",
       "max                    88851354.0         200.0                  36.0   \n",
       "\n",
       "                Charted-duration  \n",
       "missing_ratio               25.0  \n",
       "min                          1.0  \n",
       "lower_quartile              13.0  \n",
       "median                      25.0  \n",
       "upper_quartile              47.0  \n",
       "max                        622.0  "
      ]
     },
     "execution_count": 34,
     "metadata": {},
     "output_type": "execute_result"
    }
   ],
   "source": [
    "num_col_info_df = num_col_info_df.agg([missing_ratio, \"min\", lower_quartile, median, upper_quartile, \"max\"])\n",
    "num_col_info_df"
   ]
  },
  {
   "cell_type": "markdown",
   "id": "8add539a",
   "metadata": {},
   "source": [
    "After identifying the basic statistical numbers that describe your data, we further need to determine the features that have a large number of missing values. Such features are not useful for the analysis stage and must be removed from the dataset.   \n",
    "Usually, if the percentage of missing values is greater than 75%, the column is dropped from the dataframe and an updated dataframe is returned."
   ]
  },
  {
   "cell_type": "code",
   "execution_count": 35,
   "id": "53a5e35d",
   "metadata": {},
   "outputs": [],
   "source": [
    "def drop_missing_features(df: pd.DataFrame, missing_lst: dict = dict(num_col_info_df.iloc[0]), threshold: float = 75.0) -> pd.DataFrame:\n",
    "    if (df is None) or (missing_lst is None) or (threshold is None):\n",
    "        print(f\"[LOG] Invalid.\")\n",
    "        raise ValueError\n",
    "    \n",
    "    # Create a copy of the dataframe to avoid changing the original\n",
    "    df_cp = df.copy()\n",
    "    \n",
    "    # List to maintain the columns to drop\n",
    "    cols_to_trim = []\n",
    "    \n",
    "    for key, value in missing_lst.items():\n",
    "        if float(value) > threshold:\n",
    "            cols_to_trim.append(key)\n",
    "            \n",
    "    if len(cols_to_trim) > 0:\n",
    "        # drop the columns identified using the dataframe drop() method\n",
    "        df_cp = df_cp.drop(columns=cols_to_trim)\n",
    "        print(\"[LOG] Dropped column(s): \" + \" \".join(cols_to_trim))\n",
    "    else:\n",
    "        print(\"[LOG] Have no column(s) to trim.\")\n",
    "        \n",
    "    return df_cp"
   ]
  },
  {
   "cell_type": "code",
   "execution_count": 36,
   "id": "50c019e0",
   "metadata": {},
   "outputs": [
    {
     "name": "stdout",
     "output_type": "stream",
     "text": [
      "[LOG] Dropped column(s): Time to Highest rank\n"
     ]
    }
   ],
   "source": [
    "raw_df = drop_missing_features(raw_df, dict(num_col_info_df.iloc[0]))"
   ]
  },
  {
   "cell_type": "code",
   "execution_count": 37,
   "id": "f68a86a2",
   "metadata": {},
   "outputs": [
    {
     "data": {
      "text/html": [
       "<div>\n",
       "<style scoped>\n",
       "    .dataframe tbody tr th:only-of-type {\n",
       "        vertical-align: middle;\n",
       "    }\n",
       "\n",
       "    .dataframe tbody tr th {\n",
       "        vertical-align: top;\n",
       "    }\n",
       "\n",
       "    .dataframe thead th {\n",
       "        text-align: right;\n",
       "    }\n",
       "</style>\n",
       "<table border=\"1\" class=\"dataframe\">\n",
       "  <thead>\n",
       "    <tr style=\"text-align: right;\">\n",
       "      <th></th>\n",
       "      <th>Id</th>\n",
       "      <th>View</th>\n",
       "      <th>Like</th>\n",
       "      <th>Duration</th>\n",
       "      <th>Channel_name</th>\n",
       "      <th>Subscriber</th>\n",
       "      <th>Country</th>\n",
       "      <th>Publish_time</th>\n",
       "      <th>Hasgtag</th>\n",
       "      <th>Title</th>\n",
       "      <th>Most view per day</th>\n",
       "      <th>Most-view-date</th>\n",
       "      <th>Highest rank</th>\n",
       "      <th>Charted-duration</th>\n",
       "    </tr>\n",
       "  </thead>\n",
       "  <tbody>\n",
       "    <tr>\n",
       "      <th>0</th>\n",
       "      <td>9bZkp7q19f0</td>\n",
       "      <td>4.977100e+09</td>\n",
       "      <td>27830052.0</td>\n",
       "      <td>0:04:13</td>\n",
       "      <td>officialpsy</td>\n",
       "      <td>18400000.0</td>\n",
       "      <td>NaN</td>\n",
       "      <td>2012-07-15 07:46:32</td>\n",
       "      <td>4.0</td>\n",
       "      <td>PSY - GANGNAM STYLE(강남스타일) M/V</td>\n",
       "      <td>14924298</td>\n",
       "      <td>2012/12/21</td>\n",
       "      <td>1.0</td>\n",
       "      <td>482.0</td>\n",
       "    </tr>\n",
       "    <tr>\n",
       "      <th>1</th>\n",
       "      <td>hT_nvWreIhg</td>\n",
       "      <td>3.927344e+09</td>\n",
       "      <td>17491157.0</td>\n",
       "      <td>0:04:44</td>\n",
       "      <td>OneRepublicVEVO</td>\n",
       "      <td>5470000.0</td>\n",
       "      <td>NaN</td>\n",
       "      <td>2013-05-31 07:00:36</td>\n",
       "      <td>2.0</td>\n",
       "      <td>OneRepublic - Counting Stars</td>\n",
       "      <td>3288973</td>\n",
       "      <td>2018/11/10</td>\n",
       "      <td>4.0</td>\n",
       "      <td>482.0</td>\n",
       "    </tr>\n",
       "    <tr>\n",
       "      <th>2</th>\n",
       "      <td>JGwWNGJdvx8</td>\n",
       "      <td>6.149237e+09</td>\n",
       "      <td>32323841.0</td>\n",
       "      <td>0:04:24</td>\n",
       "      <td>Ed Sheeran</td>\n",
       "      <td>53900000.0</td>\n",
       "      <td>NaN</td>\n",
       "      <td>2017-01-30 10:57:50</td>\n",
       "      <td>3.0</td>\n",
       "      <td>Ed Sheeran - Shape of You (Official Music Video)</td>\n",
       "      <td>14390704</td>\n",
       "      <td>2017/05/13</td>\n",
       "      <td>1.0</td>\n",
       "      <td>356.0</td>\n",
       "    </tr>\n",
       "    <tr>\n",
       "      <th>3</th>\n",
       "      <td>lp-EO5I60KA</td>\n",
       "      <td>3.700048e+09</td>\n",
       "      <td>14912926.0</td>\n",
       "      <td>0:04:57</td>\n",
       "      <td>Ed Sheeran</td>\n",
       "      <td>53900000.0</td>\n",
       "      <td>NaN</td>\n",
       "      <td>2014-10-07 13:57:37</td>\n",
       "      <td>3.0</td>\n",
       "      <td>Ed Sheeran - Thinking Out Loud (Official Music...</td>\n",
       "      <td>3771622</td>\n",
       "      <td>2015/02/14</td>\n",
       "      <td>3.0</td>\n",
       "      <td>304.0</td>\n",
       "    </tr>\n",
       "    <tr>\n",
       "      <th>4</th>\n",
       "      <td>CevxZvSJLk8</td>\n",
       "      <td>3.918655e+09</td>\n",
       "      <td>16596026.0</td>\n",
       "      <td>0:04:30</td>\n",
       "      <td>KatyPerryVEVO</td>\n",
       "      <td>24600000.0</td>\n",
       "      <td>US</td>\n",
       "      <td>2013-09-05 20:00:22</td>\n",
       "      <td>0.0</td>\n",
       "      <td>Katy Perry - Roar</td>\n",
       "      <td>11294380</td>\n",
       "      <td>2013/09/07</td>\n",
       "      <td>2.0</td>\n",
       "      <td>445.0</td>\n",
       "    </tr>\n",
       "  </tbody>\n",
       "</table>\n",
       "</div>"
      ],
      "text/plain": [
       "            Id          View        Like Duration     Channel_name  \\\n",
       "0  9bZkp7q19f0  4.977100e+09  27830052.0  0:04:13      officialpsy   \n",
       "1  hT_nvWreIhg  3.927344e+09  17491157.0  0:04:44  OneRepublicVEVO   \n",
       "2  JGwWNGJdvx8  6.149237e+09  32323841.0  0:04:24       Ed Sheeran   \n",
       "3  lp-EO5I60KA  3.700048e+09  14912926.0  0:04:57       Ed Sheeran   \n",
       "4  CevxZvSJLk8  3.918655e+09  16596026.0  0:04:30    KatyPerryVEVO   \n",
       "\n",
       "   Subscriber Country         Publish_time  Hasgtag  \\\n",
       "0  18400000.0     NaN  2012-07-15 07:46:32      4.0   \n",
       "1   5470000.0     NaN  2013-05-31 07:00:36      2.0   \n",
       "2  53900000.0     NaN  2017-01-30 10:57:50      3.0   \n",
       "3  53900000.0     NaN  2014-10-07 13:57:37      3.0   \n",
       "4  24600000.0      US  2013-09-05 20:00:22      0.0   \n",
       "\n",
       "                                               Title  Most view per day  \\\n",
       "0                     PSY - GANGNAM STYLE(강남스타일) M/V           14924298   \n",
       "1                       OneRepublic - Counting Stars            3288973   \n",
       "2   Ed Sheeran - Shape of You (Official Music Video)           14390704   \n",
       "3  Ed Sheeran - Thinking Out Loud (Official Music...            3771622   \n",
       "4                                  Katy Perry - Roar           11294380   \n",
       "\n",
       "  Most-view-date  Highest rank  Charted-duration  \n",
       "0     2012/12/21           1.0             482.0  \n",
       "1     2018/11/10           4.0             482.0  \n",
       "2     2017/05/13           1.0             356.0  \n",
       "3     2015/02/14           3.0             304.0  \n",
       "4     2013/09/07           2.0             445.0  "
      ]
     },
     "execution_count": 37,
     "metadata": {},
     "output_type": "execute_result"
    }
   ],
   "source": [
    "raw_df.head()"
   ]
  },
  {
   "cell_type": "markdown",
   "id": "1df55c67",
   "metadata": {},
   "source": [
    "After remove features which have large missing values, our dataframe still have missing values. So that, we need to fill these missing values so that they can be used in analysis.  \n",
    "There's many ways to fill in the missing values. Here we will use the median value of each column to fill in."
   ]
  },
  {
   "cell_type": "code",
   "execution_count": 44,
   "id": "da8decaf",
   "metadata": {},
   "outputs": [],
   "source": [
    "def filling_missing_value(df: pd.DataFrame) -> pd.DataFrame:\n",
    "    df = df.replace({None: np.nan})\n",
    "    \n",
    "    if (df is None):\n",
    "        print(f\"[LOG] Invalid.\")\n",
    "        raise ValueError\n",
    "    \n",
    "    # Create a copy of the dataframe to avoid changing the original\n",
    "    df_cp = df.copy()\n",
    "    \n",
    "    # Get the list of columns in the dataframe\n",
    "    cols_list = list(df_cp.columns)\n",
    "    \n",
    "    # Exclude the last column - Country, Year\n",
    "    cols_list.remove(\"Id\")\n",
    "    cols_list.remove(\"Duration\")\n",
    "    cols_list.remove(\"Channel_name\")\n",
    "    cols_list.remove(\"Publish_time\")\n",
    "    cols_list.remove(\"Title\")\n",
    "    cols_list.remove(\"Country\")\n",
    "    cols_list.remove(\"Most-view-date\")\n",
    "    \n",
    "    # Replace all None values with NaN, fillna only works on nans\n",
    "    df_cp.fillna(value=np.nan, inplace=True)\n",
    "    \n",
    "    # Replace all NaN values with the mean of the column values\n",
    "    for col in cols_list:\n",
    "        df_cp[col].fillna((df_cp[col].median()), inplace=True)\n",
    "        \n",
    "    return df_cp"
   ]
  },
  {
   "cell_type": "code",
   "execution_count": 45,
   "id": "8d92f403",
   "metadata": {},
   "outputs": [],
   "source": [
    "raw_df = filling_missing_value(df=raw_df)"
   ]
  },
  {
   "cell_type": "code",
   "execution_count": 46,
   "id": "58a53500",
   "metadata": {
    "scrolled": true
   },
   "outputs": [
    {
     "data": {
      "text/html": [
       "<div>\n",
       "<style scoped>\n",
       "    .dataframe tbody tr th:only-of-type {\n",
       "        vertical-align: middle;\n",
       "    }\n",
       "\n",
       "    .dataframe tbody tr th {\n",
       "        vertical-align: top;\n",
       "    }\n",
       "\n",
       "    .dataframe thead th {\n",
       "        text-align: right;\n",
       "    }\n",
       "</style>\n",
       "<table border=\"1\" class=\"dataframe\">\n",
       "  <thead>\n",
       "    <tr style=\"text-align: right;\">\n",
       "      <th></th>\n",
       "      <th>Id</th>\n",
       "      <th>View</th>\n",
       "      <th>Like</th>\n",
       "      <th>Duration</th>\n",
       "      <th>Channel_name</th>\n",
       "      <th>Subscriber</th>\n",
       "      <th>Country</th>\n",
       "      <th>Publish_time</th>\n",
       "      <th>Hasgtag</th>\n",
       "      <th>Title</th>\n",
       "      <th>Most view per day</th>\n",
       "      <th>Most-view-date</th>\n",
       "      <th>Highest rank</th>\n",
       "      <th>Charted-duration</th>\n",
       "    </tr>\n",
       "  </thead>\n",
       "  <tbody>\n",
       "    <tr>\n",
       "      <th>0</th>\n",
       "      <td>9bZkp7q19f0</td>\n",
       "      <td>4.977100e+09</td>\n",
       "      <td>27830052.0</td>\n",
       "      <td>0:04:13</td>\n",
       "      <td>officialpsy</td>\n",
       "      <td>18400000.0</td>\n",
       "      <td>NaN</td>\n",
       "      <td>2012-07-15 07:46:32</td>\n",
       "      <td>4.0</td>\n",
       "      <td>PSY - GANGNAM STYLE(강남스타일) M/V</td>\n",
       "      <td>14924298</td>\n",
       "      <td>2012/12/21</td>\n",
       "      <td>1.0</td>\n",
       "      <td>482.0</td>\n",
       "    </tr>\n",
       "    <tr>\n",
       "      <th>1</th>\n",
       "      <td>hT_nvWreIhg</td>\n",
       "      <td>3.927344e+09</td>\n",
       "      <td>17491157.0</td>\n",
       "      <td>0:04:44</td>\n",
       "      <td>OneRepublicVEVO</td>\n",
       "      <td>5470000.0</td>\n",
       "      <td>NaN</td>\n",
       "      <td>2013-05-31 07:00:36</td>\n",
       "      <td>2.0</td>\n",
       "      <td>OneRepublic - Counting Stars</td>\n",
       "      <td>3288973</td>\n",
       "      <td>2018/11/10</td>\n",
       "      <td>4.0</td>\n",
       "      <td>482.0</td>\n",
       "    </tr>\n",
       "    <tr>\n",
       "      <th>2</th>\n",
       "      <td>JGwWNGJdvx8</td>\n",
       "      <td>6.149237e+09</td>\n",
       "      <td>32323841.0</td>\n",
       "      <td>0:04:24</td>\n",
       "      <td>Ed Sheeran</td>\n",
       "      <td>53900000.0</td>\n",
       "      <td>NaN</td>\n",
       "      <td>2017-01-30 10:57:50</td>\n",
       "      <td>3.0</td>\n",
       "      <td>Ed Sheeran - Shape of You (Official Music Video)</td>\n",
       "      <td>14390704</td>\n",
       "      <td>2017/05/13</td>\n",
       "      <td>1.0</td>\n",
       "      <td>356.0</td>\n",
       "    </tr>\n",
       "    <tr>\n",
       "      <th>3</th>\n",
       "      <td>lp-EO5I60KA</td>\n",
       "      <td>3.700048e+09</td>\n",
       "      <td>14912926.0</td>\n",
       "      <td>0:04:57</td>\n",
       "      <td>Ed Sheeran</td>\n",
       "      <td>53900000.0</td>\n",
       "      <td>NaN</td>\n",
       "      <td>2014-10-07 13:57:37</td>\n",
       "      <td>3.0</td>\n",
       "      <td>Ed Sheeran - Thinking Out Loud (Official Music...</td>\n",
       "      <td>3771622</td>\n",
       "      <td>2015/02/14</td>\n",
       "      <td>3.0</td>\n",
       "      <td>304.0</td>\n",
       "    </tr>\n",
       "    <tr>\n",
       "      <th>4</th>\n",
       "      <td>CevxZvSJLk8</td>\n",
       "      <td>3.918655e+09</td>\n",
       "      <td>16596026.0</td>\n",
       "      <td>0:04:30</td>\n",
       "      <td>KatyPerryVEVO</td>\n",
       "      <td>24600000.0</td>\n",
       "      <td>US</td>\n",
       "      <td>2013-09-05 20:00:22</td>\n",
       "      <td>0.0</td>\n",
       "      <td>Katy Perry - Roar</td>\n",
       "      <td>11294380</td>\n",
       "      <td>2013/09/07</td>\n",
       "      <td>2.0</td>\n",
       "      <td>445.0</td>\n",
       "    </tr>\n",
       "  </tbody>\n",
       "</table>\n",
       "</div>"
      ],
      "text/plain": [
       "            Id          View        Like Duration     Channel_name  \\\n",
       "0  9bZkp7q19f0  4.977100e+09  27830052.0  0:04:13      officialpsy   \n",
       "1  hT_nvWreIhg  3.927344e+09  17491157.0  0:04:44  OneRepublicVEVO   \n",
       "2  JGwWNGJdvx8  6.149237e+09  32323841.0  0:04:24       Ed Sheeran   \n",
       "3  lp-EO5I60KA  3.700048e+09  14912926.0  0:04:57       Ed Sheeran   \n",
       "4  CevxZvSJLk8  3.918655e+09  16596026.0  0:04:30    KatyPerryVEVO   \n",
       "\n",
       "   Subscriber Country         Publish_time  Hasgtag  \\\n",
       "0  18400000.0     NaN  2012-07-15 07:46:32      4.0   \n",
       "1   5470000.0     NaN  2013-05-31 07:00:36      2.0   \n",
       "2  53900000.0     NaN  2017-01-30 10:57:50      3.0   \n",
       "3  53900000.0     NaN  2014-10-07 13:57:37      3.0   \n",
       "4  24600000.0      US  2013-09-05 20:00:22      0.0   \n",
       "\n",
       "                                               Title  Most view per day  \\\n",
       "0                     PSY - GANGNAM STYLE(강남스타일) M/V           14924298   \n",
       "1                       OneRepublic - Counting Stars            3288973   \n",
       "2   Ed Sheeran - Shape of You (Official Music Video)           14390704   \n",
       "3  Ed Sheeran - Thinking Out Loud (Official Music...            3771622   \n",
       "4                                  Katy Perry - Roar           11294380   \n",
       "\n",
       "  Most-view-date  Highest rank  Charted-duration  \n",
       "0     2012/12/21           1.0             482.0  \n",
       "1     2018/11/10           4.0             482.0  \n",
       "2     2017/05/13           1.0             356.0  \n",
       "3     2015/02/14           3.0             304.0  \n",
       "4     2013/09/07           2.0             445.0  "
      ]
     },
     "execution_count": 46,
     "metadata": {},
     "output_type": "execute_result"
    }
   ],
   "source": [
    "raw_df.head()"
   ]
  },
  {
   "cell_type": "code",
   "execution_count": 47,
   "id": "1a6562f8",
   "metadata": {},
   "outputs": [
    {
     "data": {
      "text/html": [
       "<div>\n",
       "<style scoped>\n",
       "    .dataframe tbody tr th:only-of-type {\n",
       "        vertical-align: middle;\n",
       "    }\n",
       "\n",
       "    .dataframe tbody tr th {\n",
       "        vertical-align: top;\n",
       "    }\n",
       "\n",
       "    .dataframe thead th {\n",
       "        text-align: right;\n",
       "    }\n",
       "</style>\n",
       "<table border=\"1\" class=\"dataframe\">\n",
       "  <thead>\n",
       "    <tr style=\"text-align: right;\">\n",
       "      <th></th>\n",
       "      <th>View</th>\n",
       "      <th>Like</th>\n",
       "      <th>Subscriber</th>\n",
       "      <th>Hasgtag</th>\n",
       "      <th>Most view per day</th>\n",
       "      <th>Highest rank</th>\n",
       "      <th>Charted-duration</th>\n",
       "    </tr>\n",
       "  </thead>\n",
       "  <tbody>\n",
       "    <tr>\n",
       "      <th>missing_ratio</th>\n",
       "      <td>0.000000e+00</td>\n",
       "      <td>0.0</td>\n",
       "      <td>0.0</td>\n",
       "      <td>0.0</td>\n",
       "      <td>0.0</td>\n",
       "      <td>0.0</td>\n",
       "      <td>0.0</td>\n",
       "    </tr>\n",
       "    <tr>\n",
       "      <th>min</th>\n",
       "      <td>3.244410e+08</td>\n",
       "      <td>471866.0</td>\n",
       "      <td>7330.0</td>\n",
       "      <td>0.0</td>\n",
       "      <td>141350.0</td>\n",
       "      <td>1.0</td>\n",
       "      <td>1.0</td>\n",
       "    </tr>\n",
       "    <tr>\n",
       "      <th>lower_quartile</th>\n",
       "      <td>3.985463e+08</td>\n",
       "      <td>2094270.2</td>\n",
       "      <td>2950000.0</td>\n",
       "      <td>0.0</td>\n",
       "      <td>765111.5</td>\n",
       "      <td>9.8</td>\n",
       "      <td>17.0</td>\n",
       "    </tr>\n",
       "    <tr>\n",
       "      <th>median</th>\n",
       "      <td>5.150177e+08</td>\n",
       "      <td>3129072.0</td>\n",
       "      <td>9160000.0</td>\n",
       "      <td>3.0</td>\n",
       "      <td>1837817.5</td>\n",
       "      <td>21.0</td>\n",
       "      <td>25.0</td>\n",
       "    </tr>\n",
       "    <tr>\n",
       "      <th>upper_quartile</th>\n",
       "      <td>7.838052e+08</td>\n",
       "      <td>5046276.8</td>\n",
       "      <td>24600000.0</td>\n",
       "      <td>4.0</td>\n",
       "      <td>4233410.5</td>\n",
       "      <td>44.0</td>\n",
       "      <td>37.0</td>\n",
       "    </tr>\n",
       "    <tr>\n",
       "      <th>max</th>\n",
       "      <td>8.327580e+09</td>\n",
       "      <td>52536744.0</td>\n",
       "      <td>254000000.0</td>\n",
       "      <td>81.0</td>\n",
       "      <td>88851354.0</td>\n",
       "      <td>200.0</td>\n",
       "      <td>622.0</td>\n",
       "    </tr>\n",
       "  </tbody>\n",
       "</table>\n",
       "</div>"
      ],
      "text/plain": [
       "                        View        Like   Subscriber  Hasgtag  \\\n",
       "missing_ratio   0.000000e+00         0.0          0.0      0.0   \n",
       "min             3.244410e+08    471866.0       7330.0      0.0   \n",
       "lower_quartile  3.985463e+08   2094270.2    2950000.0      0.0   \n",
       "median          5.150177e+08   3129072.0    9160000.0      3.0   \n",
       "upper_quartile  7.838052e+08   5046276.8   24600000.0      4.0   \n",
       "max             8.327580e+09  52536744.0  254000000.0     81.0   \n",
       "\n",
       "                Most view per day  Highest rank  Charted-duration  \n",
       "missing_ratio                 0.0           0.0               0.0  \n",
       "min                      141350.0           1.0               1.0  \n",
       "lower_quartile           765111.5           9.8              17.0  \n",
       "median                  1837817.5          21.0              25.0  \n",
       "upper_quartile          4233410.5          44.0              37.0  \n",
       "max                    88851354.0         200.0             622.0  "
      ]
     },
     "execution_count": 47,
     "metadata": {},
     "output_type": "execute_result"
    }
   ],
   "source": [
    "raw_df.select_dtypes(exclude='object').agg([missing_ratio, \"min\", lower_quartile, median, upper_quartile, \"max\"])"
   ]
  },
  {
   "cell_type": "markdown",
   "id": "e5fece4f",
   "metadata": {},
   "source": [
    "### For each column with a non-numeric data type, how are the values distributed?"
   ]
  },
  {
   "cell_type": "markdown",
   "id": "bd35af7d",
   "metadata": {},
   "source": [
    "For columns with non-numeric data types, we calculate:\n",
    "\n",
    "- Percentage (from 0 to 100) of missing values\n",
    "- Number of values (the values here are different values and we do not consider missing values): with columns whose type is categorical, it is a set with a finite number of categories. Directly counting the number of values in these columns doesn't make much sense, so it's better to count the number of elements of all types. (Số lượng các giá trị (các giá trị ở đây là các giá trị khác nhau và ta không xét giá trị thiếu): với cột mà có kiểu là categorical, nó là một tập hợp có số lượng hữu hạn các loại. Việc đếm trực tiếp số lượng các giá trị trong những cột này không có nhiều ý nghĩa, nên tốt hơn hết là mà sẽ đếm số lượng phần tử các loại.)\n",
    "- The percentage (from 0 to 100) of each value is sorted by decreasing percentage (we do not consider missing values, the ratio is the ratio compared to the number of non-missing values): you use a dictionary to store , key is the value, value is the percentage; With the column corresponding to each type, the method is similar to above."
   ]
  },
  {
   "cell_type": "code",
   "execution_count": 48,
   "id": "8b9a9d77",
   "metadata": {},
   "outputs": [],
   "source": [
    "cat_col_info_df = raw_df.select_dtypes(include='object')"
   ]
  },
  {
   "cell_type": "code",
   "execution_count": 49,
   "id": "7760f946",
   "metadata": {},
   "outputs": [],
   "source": [
    "def missing_ratio(s):\n",
    "    return (s.isna().mean() * 100).round(1)\n",
    "\n",
    "def num_values(s):\n",
    "    s = s.str.split(';')\n",
    "    s = s.explode()\n",
    "    return len(s.value_counts())\n",
    "\n",
    "def value_ratios(s):\n",
    "    s = s.str.split(';')\n",
    "    s = s.explode()\n",
    "    totalCount = (~s.isna()).sum()\n",
    "    return ((s.value_counts()/totalCount*100).round(1)).to_dict()"
   ]
  },
  {
   "cell_type": "code",
   "execution_count": 50,
   "id": "2a570876",
   "metadata": {},
   "outputs": [
    {
     "data": {
      "text/html": [
       "<div>\n",
       "<style scoped>\n",
       "    .dataframe tbody tr th:only-of-type {\n",
       "        vertical-align: middle;\n",
       "    }\n",
       "\n",
       "    .dataframe tbody tr th {\n",
       "        vertical-align: top;\n",
       "    }\n",
       "\n",
       "    .dataframe thead th {\n",
       "        text-align: right;\n",
       "    }\n",
       "</style>\n",
       "<table border=\"1\" class=\"dataframe\">\n",
       "  <thead>\n",
       "    <tr style=\"text-align: right;\">\n",
       "      <th></th>\n",
       "      <th>Id</th>\n",
       "      <th>Duration</th>\n",
       "      <th>Channel_name</th>\n",
       "      <th>Country</th>\n",
       "      <th>Publish_time</th>\n",
       "      <th>Title</th>\n",
       "      <th>Most-view-date</th>\n",
       "    </tr>\n",
       "  </thead>\n",
       "  <tbody>\n",
       "    <tr>\n",
       "      <th>missing_ratio</th>\n",
       "      <td>0.0</td>\n",
       "      <td>0.4</td>\n",
       "      <td>0.4</td>\n",
       "      <td>44.6</td>\n",
       "      <td>0.4</td>\n",
       "      <td>0.0</td>\n",
       "      <td>0.0</td>\n",
       "    </tr>\n",
       "    <tr>\n",
       "      <th>num_values</th>\n",
       "      <td>2500</td>\n",
       "      <td>322</td>\n",
       "      <td>893</td>\n",
       "      <td>40</td>\n",
       "      <td>2476</td>\n",
       "      <td>2496</td>\n",
       "      <td>1348</td>\n",
       "    </tr>\n",
       "    <tr>\n",
       "      <th>value_ratios</th>\n",
       "      <td>{'9bZkp7q19f0': 0.0, '_EyZUTDAH0U': 0.0, 'f5aD...</td>\n",
       "      <td>{'0:03:54': 1.3, '0:03:38': 1.2, '0:03:55': 1....</td>\n",
       "      <td>{'T-Series': 4.8, 'Zee Music Company': 1.0, 'B...</td>\n",
       "      <td>{'US': 38.4, 'IN': 21.7, 'BR': 8.7, 'PR': 6.4,...</td>\n",
       "      <td>{'2016-05-04 04:30:00': 0.1, '2013-11-22 08:00...</td>\n",
       "      <td>{'Los Ángeles Azules - 17 Años ft. Jay De La C...</td>\n",
       "      <td>{'2019/01/16': 1.8, '2017/12/31': 1.4, '2016/1...</td>\n",
       "    </tr>\n",
       "  </tbody>\n",
       "</table>\n",
       "</div>"
      ],
      "text/plain": [
       "                                                              Id  \\\n",
       "missing_ratio                                                0.0   \n",
       "num_values                                                  2500   \n",
       "value_ratios   {'9bZkp7q19f0': 0.0, '_EyZUTDAH0U': 0.0, 'f5aD...   \n",
       "\n",
       "                                                        Duration  \\\n",
       "missing_ratio                                                0.4   \n",
       "num_values                                                   322   \n",
       "value_ratios   {'0:03:54': 1.3, '0:03:38': 1.2, '0:03:55': 1....   \n",
       "\n",
       "                                                    Channel_name  \\\n",
       "missing_ratio                                                0.4   \n",
       "num_values                                                   893   \n",
       "value_ratios   {'T-Series': 4.8, 'Zee Music Company': 1.0, 'B...   \n",
       "\n",
       "                                                         Country  \\\n",
       "missing_ratio                                               44.6   \n",
       "num_values                                                    40   \n",
       "value_ratios   {'US': 38.4, 'IN': 21.7, 'BR': 8.7, 'PR': 6.4,...   \n",
       "\n",
       "                                                    Publish_time  \\\n",
       "missing_ratio                                                0.4   \n",
       "num_values                                                  2476   \n",
       "value_ratios   {'2016-05-04 04:30:00': 0.1, '2013-11-22 08:00...   \n",
       "\n",
       "                                                           Title  \\\n",
       "missing_ratio                                                0.0   \n",
       "num_values                                                  2496   \n",
       "value_ratios   {'Los Ángeles Azules - 17 Años ft. Jay De La C...   \n",
       "\n",
       "                                                  Most-view-date  \n",
       "missing_ratio                                                0.0  \n",
       "num_values                                                  1348  \n",
       "value_ratios   {'2019/01/16': 1.8, '2017/12/31': 1.4, '2016/1...  "
      ]
     },
     "execution_count": 50,
     "metadata": {},
     "output_type": "execute_result"
    }
   ],
   "source": [
    "cat_col_info_df = cat_col_info_df.agg([missing_ratio, num_values, value_ratios])\n",
    "cat_col_info_df"
   ]
  },
  {
   "cell_type": "markdown",
   "id": "c864e8e2",
   "metadata": {},
   "source": [
    "### Is the collected data reasonable?"
   ]
  },
  {
   "cell_type": "code",
   "execution_count": null,
   "id": "ad93335d",
   "metadata": {},
   "outputs": [],
   "source": []
  },
  {
   "cell_type": "markdown",
   "id": "515e97f4",
   "metadata": {},
   "source": [
    "### Save processed data"
   ]
  },
  {
   "cell_type": "code",
   "execution_count": 51,
   "id": "29e0ec70",
   "metadata": {},
   "outputs": [
    {
     "name": "stdout",
     "output_type": "stream",
     "text": [
      "Total number of features: 14\n"
     ]
    },
    {
     "data": {
      "text/plain": [
       "Id                    object\n",
       "View                 float64\n",
       "Like                 float64\n",
       "Duration              object\n",
       "Channel_name          object\n",
       "Subscriber           float64\n",
       "Country               object\n",
       "Publish_time          object\n",
       "Hasgtag              float64\n",
       "Title                 object\n",
       "Most view per day      int64\n",
       "Most-view-date        object\n",
       "Highest rank         float64\n",
       "Charted-duration     float64\n",
       "dtype: object"
      ]
     },
     "execution_count": 51,
     "metadata": {},
     "output_type": "execute_result"
    }
   ],
   "source": [
    "print(f\"Total number of features: {raw_df.shape[1]}\")\n",
    "raw_df.dtypes"
   ]
  },
  {
   "cell_type": "code",
   "execution_count": 53,
   "id": "c69d8aab",
   "metadata": {},
   "outputs": [],
   "source": [
    "raw_df.to_csv(\"../data/processed/music_video_data.csv\", index=False)"
   ]
  }
 ],
 "metadata": {
  "kernelspec": {
   "display_name": "Python 3 (ipykernel)",
   "language": "python",
   "name": "python3"
  },
  "language_info": {
   "codemirror_mode": {
    "name": "ipython",
    "version": 3
   },
   "file_extension": ".py",
   "mimetype": "text/x-python",
   "name": "python",
   "nbconvert_exporter": "python",
   "pygments_lexer": "ipython3",
   "version": "3.10.13"
  }
 },
 "nbformat": 4,
 "nbformat_minor": 5
}
