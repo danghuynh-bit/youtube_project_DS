{
 "cells": [
  {
   "cell_type": "markdown",
   "metadata": {},
   "source": [
    "<div style=\"text-align: center; background-color: #750E21; font-family: 'Trebuchet MS', Arial, sans-serif; color: white; padding: 20px; font-size: 40px; font-weight: bold; border-radius: 0 0 0 0; box-shadow: 0px 6px 8px rgba(0, 0, 0, 0.2);\">\n",
    "  FINAL PROJECT: RESEARCHING ON MUSIC TASTE WORDWIDELY 📌\n",
    "</div>"
   ]
  },
  {
   "cell_type": "markdown",
   "metadata": {},
   "source": [
    "<div style=\"text-align: center; background-color: #0766AD; font-family: 'Trebuchet MS', Arial, sans-serif; color: white; padding: 20px; font-size: 40px; font-weight: bold; border-radius: 0 0 0 0; box-shadow: 0px 6px 8px rgba(0, 0, 0, 0.2);\">\n",
    "  Stage 01 - Collecting Data (Extension)📌\n",
    "</div>"
   ]
  },
  {
   "cell_type": "markdown",
   "metadata": {},
   "source": [
    "## **PURPOSE** 🚀"
   ]
  },
  {
   "cell_type": "markdown",
   "metadata": {},
   "source": [
    "🌟 While exploring data on Spotify, we found out that there exists a really interesting data on music, which is called `audio_feature`.\\\n",
    "🌟 Hence, in this notebook, we will continue to mine the data with `Spotify API`.\\\n",
    "🌟 The main purpose of this sample of data is that we are meant to use it in the part of building model. We believe that it will produce an meaningful insight into the music features that could come off in the music market; thus enhancing the awareness of writing song with high values. High values in both popularity and its core quality. "
   ]
  },
  {
   "cell_type": "markdown",
   "metadata": {},
   "source": [
    "## **IMPORT LIBRARY** 🎄"
   ]
  },
  {
   "cell_type": "code",
   "execution_count": 1,
   "metadata": {},
   "outputs": [],
   "source": [
    "import pickle\n",
    "import pandas as pd\n",
    "import time\n",
    "import retry\n",
    "import spotipy\n",
    "import threading\n",
    "from concurrent.futures import ThreadPoolExecutor\n",
    "from spotipy.oauth2 import SpotifyOAuth\n",
    "from spotipy.exceptions import SpotifyException\n"
   ]
  },
  {
   "cell_type": "markdown",
   "metadata": {},
   "source": [
    "<div style=\"text-align: left; font-family: 'Trebuchet MS', Arial, sans-serif; color: #FF90BC; padding: 20px; font-size: 38px; font-weight: bold; border-radius: 0 0 0 0\">\n",
    "  STEP 1: Get Song Id on Spotify with Spotipy 🔥\n",
    "</div>"
   ]
  },
  {
   "cell_type": "markdown",
   "metadata": {},
   "source": [
    "🔴 API key created to call for service with the library `spotipy`"
   ]
  },
  {
   "cell_type": "code",
   "execution_count": 2,
   "metadata": {},
   "outputs": [],
   "source": [
    "SPOTIPY_CLIENT_ID = '430a68d6969446dc8e23957ca8829114'\n",
    "SPOTIPY_CLIENT_SECRET = '78d05fe6892847389edbd9abe3f1d090'\n",
    "SPOTIPY_REDIRECT_URI = 'http://localhost:8888/callback'"
   ]
  },
  {
   "cell_type": "code",
   "execution_count": 3,
   "metadata": {},
   "outputs": [],
   "source": [
    "sp = spotipy.Spotify(auth_manager=SpotifyOAuth(client_id=SPOTIPY_CLIENT_ID,\n",
    "                                                        client_secret=SPOTIPY_CLIENT_SECRET,\n",
    "                                                        redirect_uri=SPOTIPY_REDIRECT_URI,\n",
    "                                                        scope='user-library-read'))"
   ]
  },
  {
   "cell_type": "markdown",
   "metadata": {},
   "source": [
    "🟠 In the previous notebook, we have already created file that defined clearly the `song title` and `artist name`. This would be a meaningfull help in tracking the `id` of song on spotify before coming to extract its audio features."
   ]
  },
  {
   "cell_type": "code",
   "execution_count": 4,
   "metadata": {},
   "outputs": [],
   "source": [
    "spotify_data = pd.read_csv('../data/raw/raw_spotify_data.csv')\n",
    "kworb_data = pd.read_csv('../data/raw/raw_kworb_data.csv')\n",
    "\n",
    "song_name = spotify_data['Song Name'].tolist()\n",
    "artist_name = spotify_data['Artist Name'].tolist()\n",
    "youtube_title = kworb_data['Title'].tolist()"
   ]
  },
  {
   "cell_type": "markdown",
   "metadata": {},
   "source": [
    "🟡 Writing function and use it for getting the `track id` by calling for spotify API."
   ]
  },
  {
   "cell_type": "code",
   "execution_count": null,
   "metadata": {},
   "outputs": [],
   "source": [
    "def get_track_id(song_name, artist_name, youtube_title):\n",
    "    try:\n",
    "        search_query = f'artist:{artist_name} track:{song_name}'\n",
    "        result = sp.search(search_query)\n",
    "        return result['tracks']['items'][0]['id']\n",
    "    except:\n",
    "        try:\n",
    "            result = sp.search(youtube_title)\n",
    "            return result['tracks']['items'][0]['id']\n",
    "        except Exception as e:\n",
    "            print(f'Error: {e}')\n",
    "            print(f'Could not find {song_name} by {artist_name}')\n",
    "            return None\n",
    "\n",
    "\n",
    "track_ids = []\n",
    "with ThreadPoolExecutor(max_workers=10) as executors:\n",
    "    futures = [executors.submit(get_track_id, song_name[i], artist_name[i], youtube_title[i]) for i in range(len(song_name))]\n",
    "    for future in futures:\n",
    "        track_ids.append(future.result())"
   ]
  },
  {
   "cell_type": "markdown",
   "metadata": {},
   "source": [
    "🟢 Now, we save it into the csv file for later use. Due to the fact that the request to Spotify API would be limited for each generated API. Therefore, in case the kernel is crashed and restarted, we don't have to request to gain the `id` again.\\\n",
    "🟢 File name saved: `id.features.csv`."
   ]
  },
  {
   "cell_type": "code",
   "execution_count": 25,
   "metadata": {},
   "outputs": [
    {
     "data": {
      "text/html": [
       "<div>\n",
       "<style scoped>\n",
       "    .dataframe tbody tr th:only-of-type {\n",
       "        vertical-align: middle;\n",
       "    }\n",
       "\n",
       "    .dataframe tbody tr th {\n",
       "        vertical-align: top;\n",
       "    }\n",
       "\n",
       "    .dataframe thead th {\n",
       "        text-align: right;\n",
       "    }\n",
       "</style>\n",
       "<table border=\"1\" class=\"dataframe\">\n",
       "  <thead>\n",
       "    <tr style=\"text-align: right;\">\n",
       "      <th></th>\n",
       "      <th>0</th>\n",
       "    </tr>\n",
       "  </thead>\n",
       "  <tbody>\n",
       "    <tr>\n",
       "      <th>0</th>\n",
       "      <td>03UrZgTINDqvnUMbbIMhql</td>\n",
       "    </tr>\n",
       "    <tr>\n",
       "      <th>1</th>\n",
       "      <td>2tpWsVSb9UEmDRxAl1zhX1</td>\n",
       "    </tr>\n",
       "    <tr>\n",
       "      <th>2</th>\n",
       "      <td>7qiZfU4dY1lWllzX7mPBI3</td>\n",
       "    </tr>\n",
       "    <tr>\n",
       "      <th>3</th>\n",
       "      <td>34gCuhDGsG4bRPIf9bb02f</td>\n",
       "    </tr>\n",
       "    <tr>\n",
       "      <th>4</th>\n",
       "      <td>6F5c58TMEs1byxUstkzVeM</td>\n",
       "    </tr>\n",
       "    <tr>\n",
       "      <th>...</th>\n",
       "      <td>...</td>\n",
       "    </tr>\n",
       "    <tr>\n",
       "      <th>2495</th>\n",
       "      <td>0mjwunHon4ve2wM4wPyZC4</td>\n",
       "    </tr>\n",
       "    <tr>\n",
       "      <th>2496</th>\n",
       "      <td>1DDbHdoDBDDk4ftBXrV0KP</td>\n",
       "    </tr>\n",
       "    <tr>\n",
       "      <th>2497</th>\n",
       "      <td>6I3mqTwhRpn34SLVafSH7G</td>\n",
       "    </tr>\n",
       "    <tr>\n",
       "      <th>2498</th>\n",
       "      <td>5oPcQjaNQjqCW7CV4SjDDt</td>\n",
       "    </tr>\n",
       "    <tr>\n",
       "      <th>2499</th>\n",
       "      <td>7nwHsYxiuHo98dLI7UVkyn</td>\n",
       "    </tr>\n",
       "  </tbody>\n",
       "</table>\n",
       "<p>2500 rows × 1 columns</p>\n",
       "</div>"
      ],
      "text/plain": [
       "                           0\n",
       "0     03UrZgTINDqvnUMbbIMhql\n",
       "1     2tpWsVSb9UEmDRxAl1zhX1\n",
       "2     7qiZfU4dY1lWllzX7mPBI3\n",
       "3     34gCuhDGsG4bRPIf9bb02f\n",
       "4     6F5c58TMEs1byxUstkzVeM\n",
       "...                      ...\n",
       "2495  0mjwunHon4ve2wM4wPyZC4\n",
       "2496  1DDbHdoDBDDk4ftBXrV0KP\n",
       "2497  6I3mqTwhRpn34SLVafSH7G\n",
       "2498  5oPcQjaNQjqCW7CV4SjDDt\n",
       "2499  7nwHsYxiuHo98dLI7UVkyn\n",
       "\n",
       "[2500 rows x 1 columns]"
      ]
     },
     "execution_count": 25,
     "metadata": {},
     "output_type": "execute_result"
    }
   ],
   "source": [
    "audio_features = pd.DataFrame(track_ids)\n",
    "audio_features.to_csv(\"../data/raw/id_features.csv\", index=False)\n",
    "audio_features"
   ]
  },
  {
   "cell_type": "markdown",
   "metadata": {},
   "source": [
    "<div style=\"text-align: left; font-family: 'Trebuchet MS', Arial, sans-serif; color: #FF90BC; padding: 20px; font-size: 38px; font-weight: bold; border-radius: 0 0 0 0\">\n",
    "  STEP 2: Get the Song Features of each song 🔥\n",
    "</div>"
   ]
  },
  {
   "cell_type": "markdown",
   "metadata": {},
   "source": [
    "🔵 We get the `song id` by reading the files saved in the previous step.\\\n",
    "🔵 Then, transform the list of `song id` into list for latter use."
   ]
  },
  {
   "cell_type": "code",
   "execution_count": 4,
   "metadata": {},
   "outputs": [],
   "source": [
    "audio_features_id = pd.read_csv(\"../data/raw/id_features.csv\")\n",
    "track_ids = audio_features_id.iloc[:,0]\n"
   ]
  },
  {
   "cell_type": "code",
   "execution_count": 7,
   "metadata": {},
   "outputs": [
    {
     "data": {
      "text/plain": [
       "list"
      ]
     },
     "execution_count": 7,
     "metadata": {},
     "output_type": "execute_result"
    }
   ],
   "source": [
    "track_ids = track_ids.to_list()\n",
    "type(track_ids)\n"
   ]
  },
  {
   "cell_type": "markdown",
   "metadata": {},
   "source": [
    "🟤 In the following code, we start to write function for extracting audio features, function named `get_audio_features`.\\\n",
    "🟤 And Because the amount of samples to get is quite lare, requiring so many requests in short time, leading to Error. Hence, we decide to devide the data sample into batch with the batch size of 500."
   ]
  },
  {
   "cell_type": "code",
   "execution_count": 5,
   "metadata": {},
   "outputs": [],
   "source": [
    "def get_audio_features(track_id):\n",
    "    try:\n",
    "        return sp.audio_features(track_id)[0]\n",
    "    except Exception as e:\n",
    "        print(f'Error: {e}')\n",
    "        return None\n",
    "    \n",
    "def audio_features_with_batch(track_ids, start, batch_size):\n",
    "    audio_features = []\n",
    "    for i in range(start, start+batch_size):\n",
    "        audio_features.append(get_audio_features(track_ids[i]))\n",
    "    return audio_features"
   ]
  },
  {
   "cell_type": "markdown",
   "metadata": {},
   "source": [
    "🟨 Working on **`BATCH 1: 0-500`**.\\\n",
    "🟨 Save to the file `audio_feature_1.csv`\n"
   ]
  },
  {
   "cell_type": "code",
   "execution_count": 28,
   "metadata": {},
   "outputs": [],
   "source": [
    "audio_features_1 = audio_features_with_batch(track_ids, 0, 500)"
   ]
  },
  {
   "cell_type": "code",
   "execution_count": 29,
   "metadata": {},
   "outputs": [
    {
     "data": {
      "text/html": [
       "<div>\n",
       "<style scoped>\n",
       "    .dataframe tbody tr th:only-of-type {\n",
       "        vertical-align: middle;\n",
       "    }\n",
       "\n",
       "    .dataframe tbody tr th {\n",
       "        vertical-align: top;\n",
       "    }\n",
       "\n",
       "    .dataframe thead th {\n",
       "        text-align: right;\n",
       "    }\n",
       "</style>\n",
       "<table border=\"1\" class=\"dataframe\">\n",
       "  <thead>\n",
       "    <tr style=\"text-align: right;\">\n",
       "      <th></th>\n",
       "      <th>danceability</th>\n",
       "      <th>energy</th>\n",
       "      <th>key</th>\n",
       "      <th>loudness</th>\n",
       "      <th>mode</th>\n",
       "      <th>speechiness</th>\n",
       "      <th>acousticness</th>\n",
       "      <th>instrumentalness</th>\n",
       "      <th>liveness</th>\n",
       "      <th>valence</th>\n",
       "      <th>tempo</th>\n",
       "      <th>type</th>\n",
       "      <th>id</th>\n",
       "      <th>uri</th>\n",
       "      <th>track_href</th>\n",
       "      <th>analysis_url</th>\n",
       "      <th>duration_ms</th>\n",
       "      <th>time_signature</th>\n",
       "    </tr>\n",
       "  </thead>\n",
       "  <tbody>\n",
       "    <tr>\n",
       "      <th>0</th>\n",
       "      <td>0.727</td>\n",
       "      <td>0.937</td>\n",
       "      <td>11</td>\n",
       "      <td>-2.871</td>\n",
       "      <td>0</td>\n",
       "      <td>0.2860</td>\n",
       "      <td>0.004170</td>\n",
       "      <td>0.000000</td>\n",
       "      <td>0.0910</td>\n",
       "      <td>0.749</td>\n",
       "      <td>132.067</td>\n",
       "      <td>audio_features</td>\n",
       "      <td>03UrZgTINDqvnUMbbIMhql</td>\n",
       "      <td>spotify:track:03UrZgTINDqvnUMbbIMhql</td>\n",
       "      <td>https://api.spotify.com/v1/tracks/03UrZgTINDqv...</td>\n",
       "      <td>https://api.spotify.com/v1/audio-analysis/03Ur...</td>\n",
       "      <td>219493</td>\n",
       "      <td>4</td>\n",
       "    </tr>\n",
       "    <tr>\n",
       "      <th>1</th>\n",
       "      <td>0.664</td>\n",
       "      <td>0.705</td>\n",
       "      <td>1</td>\n",
       "      <td>-4.972</td>\n",
       "      <td>0</td>\n",
       "      <td>0.0382</td>\n",
       "      <td>0.065400</td>\n",
       "      <td>0.000000</td>\n",
       "      <td>0.1180</td>\n",
       "      <td>0.477</td>\n",
       "      <td>122.016</td>\n",
       "      <td>audio_features</td>\n",
       "      <td>2tpWsVSb9UEmDRxAl1zhX1</td>\n",
       "      <td>spotify:track:2tpWsVSb9UEmDRxAl1zhX1</td>\n",
       "      <td>https://api.spotify.com/v1/tracks/2tpWsVSb9UEm...</td>\n",
       "      <td>https://api.spotify.com/v1/audio-analysis/2tpW...</td>\n",
       "      <td>257267</td>\n",
       "      <td>4</td>\n",
       "    </tr>\n",
       "    <tr>\n",
       "      <th>2</th>\n",
       "      <td>0.825</td>\n",
       "      <td>0.652</td>\n",
       "      <td>1</td>\n",
       "      <td>-3.183</td>\n",
       "      <td>0</td>\n",
       "      <td>0.0802</td>\n",
       "      <td>0.581000</td>\n",
       "      <td>0.000000</td>\n",
       "      <td>0.0931</td>\n",
       "      <td>0.931</td>\n",
       "      <td>95.977</td>\n",
       "      <td>audio_features</td>\n",
       "      <td>7qiZfU4dY1lWllzX7mPBI3</td>\n",
       "      <td>spotify:track:7qiZfU4dY1lWllzX7mPBI3</td>\n",
       "      <td>https://api.spotify.com/v1/tracks/7qiZfU4dY1lW...</td>\n",
       "      <td>https://api.spotify.com/v1/audio-analysis/7qiZ...</td>\n",
       "      <td>233713</td>\n",
       "      <td>4</td>\n",
       "    </tr>\n",
       "    <tr>\n",
       "      <th>3</th>\n",
       "      <td>0.781</td>\n",
       "      <td>0.445</td>\n",
       "      <td>2</td>\n",
       "      <td>-6.061</td>\n",
       "      <td>1</td>\n",
       "      <td>0.0295</td>\n",
       "      <td>0.474000</td>\n",
       "      <td>0.000000</td>\n",
       "      <td>0.1840</td>\n",
       "      <td>0.591</td>\n",
       "      <td>78.998</td>\n",
       "      <td>audio_features</td>\n",
       "      <td>34gCuhDGsG4bRPIf9bb02f</td>\n",
       "      <td>spotify:track:34gCuhDGsG4bRPIf9bb02f</td>\n",
       "      <td>https://api.spotify.com/v1/tracks/34gCuhDGsG4b...</td>\n",
       "      <td>https://api.spotify.com/v1/audio-analysis/34gC...</td>\n",
       "      <td>281560</td>\n",
       "      <td>4</td>\n",
       "    </tr>\n",
       "    <tr>\n",
       "      <th>4</th>\n",
       "      <td>0.554</td>\n",
       "      <td>0.772</td>\n",
       "      <td>7</td>\n",
       "      <td>-4.821</td>\n",
       "      <td>0</td>\n",
       "      <td>0.0418</td>\n",
       "      <td>0.004870</td>\n",
       "      <td>0.000007</td>\n",
       "      <td>0.3540</td>\n",
       "      <td>0.455</td>\n",
       "      <td>179.984</td>\n",
       "      <td>audio_features</td>\n",
       "      <td>6F5c58TMEs1byxUstkzVeM</td>\n",
       "      <td>spotify:track:6F5c58TMEs1byxUstkzVeM</td>\n",
       "      <td>https://api.spotify.com/v1/tracks/6F5c58TMEs1b...</td>\n",
       "      <td>https://api.spotify.com/v1/audio-analysis/6F5c...</td>\n",
       "      <td>223546</td>\n",
       "      <td>4</td>\n",
       "    </tr>\n",
       "    <tr>\n",
       "      <th>...</th>\n",
       "      <td>...</td>\n",
       "      <td>...</td>\n",
       "      <td>...</td>\n",
       "      <td>...</td>\n",
       "      <td>...</td>\n",
       "      <td>...</td>\n",
       "      <td>...</td>\n",
       "      <td>...</td>\n",
       "      <td>...</td>\n",
       "      <td>...</td>\n",
       "      <td>...</td>\n",
       "      <td>...</td>\n",
       "      <td>...</td>\n",
       "      <td>...</td>\n",
       "      <td>...</td>\n",
       "      <td>...</td>\n",
       "      <td>...</td>\n",
       "      <td>...</td>\n",
       "    </tr>\n",
       "    <tr>\n",
       "      <th>495</th>\n",
       "      <td>0.697</td>\n",
       "      <td>0.648</td>\n",
       "      <td>7</td>\n",
       "      <td>-7.123</td>\n",
       "      <td>1</td>\n",
       "      <td>0.1280</td>\n",
       "      <td>0.425000</td>\n",
       "      <td>0.000000</td>\n",
       "      <td>0.1910</td>\n",
       "      <td>0.313</td>\n",
       "      <td>186.125</td>\n",
       "      <td>audio_features</td>\n",
       "      <td>6DPp7xKJ4WS71HldGA038M</td>\n",
       "      <td>spotify:track:6DPp7xKJ4WS71HldGA038M</td>\n",
       "      <td>https://api.spotify.com/v1/tracks/6DPp7xKJ4WS7...</td>\n",
       "      <td>https://api.spotify.com/v1/audio-analysis/6DPp...</td>\n",
       "      <td>199813</td>\n",
       "      <td>4</td>\n",
       "    </tr>\n",
       "    <tr>\n",
       "      <th>496</th>\n",
       "      <td>0.949</td>\n",
       "      <td>0.661</td>\n",
       "      <td>5</td>\n",
       "      <td>-4.244</td>\n",
       "      <td>0</td>\n",
       "      <td>0.0572</td>\n",
       "      <td>0.030200</td>\n",
       "      <td>0.000000</td>\n",
       "      <td>0.0454</td>\n",
       "      <td>0.760</td>\n",
       "      <td>104.504</td>\n",
       "      <td>audio_features</td>\n",
       "      <td>3yfqSUWxFvZELEM4PmlwIR</td>\n",
       "      <td>spotify:track:3yfqSUWxFvZELEM4PmlwIR</td>\n",
       "      <td>https://api.spotify.com/v1/tracks/3yfqSUWxFvZE...</td>\n",
       "      <td>https://api.spotify.com/v1/audio-analysis/3yfq...</td>\n",
       "      <td>284200</td>\n",
       "      <td>4</td>\n",
       "    </tr>\n",
       "    <tr>\n",
       "      <th>497</th>\n",
       "      <td>0.765</td>\n",
       "      <td>0.339</td>\n",
       "      <td>8</td>\n",
       "      <td>-8.965</td>\n",
       "      <td>1</td>\n",
       "      <td>0.0365</td>\n",
       "      <td>0.278000</td>\n",
       "      <td>0.000000</td>\n",
       "      <td>0.1310</td>\n",
       "      <td>0.864</td>\n",
       "      <td>123.950</td>\n",
       "      <td>audio_features</td>\n",
       "      <td>1l77YWrGUp3qX3NS1rz7lq</td>\n",
       "      <td>spotify:track:1l77YWrGUp3qX3NS1rz7lq</td>\n",
       "      <td>https://api.spotify.com/v1/tracks/1l77YWrGUp3q...</td>\n",
       "      <td>https://api.spotify.com/v1/audio-analysis/1l77...</td>\n",
       "      <td>202560</td>\n",
       "      <td>4</td>\n",
       "    </tr>\n",
       "    <tr>\n",
       "      <th>498</th>\n",
       "      <td>0.726</td>\n",
       "      <td>0.652</td>\n",
       "      <td>1</td>\n",
       "      <td>-7.764</td>\n",
       "      <td>0</td>\n",
       "      <td>0.1100</td>\n",
       "      <td>0.004510</td>\n",
       "      <td>0.000033</td>\n",
       "      <td>0.2260</td>\n",
       "      <td>0.803</td>\n",
       "      <td>163.879</td>\n",
       "      <td>audio_features</td>\n",
       "      <td>6HGoVbCUr63SgU3TjxEVj6</td>\n",
       "      <td>spotify:track:6HGoVbCUr63SgU3TjxEVj6</td>\n",
       "      <td>https://api.spotify.com/v1/tracks/6HGoVbCUr63S...</td>\n",
       "      <td>https://api.spotify.com/v1/audio-analysis/6HGo...</td>\n",
       "      <td>180056</td>\n",
       "      <td>4</td>\n",
       "    </tr>\n",
       "    <tr>\n",
       "      <th>499</th>\n",
       "      <td>0.279</td>\n",
       "      <td>0.742</td>\n",
       "      <td>4</td>\n",
       "      <td>-6.460</td>\n",
       "      <td>0</td>\n",
       "      <td>0.0898</td>\n",
       "      <td>0.000185</td>\n",
       "      <td>0.000000</td>\n",
       "      <td>0.5930</td>\n",
       "      <td>0.328</td>\n",
       "      <td>189.868</td>\n",
       "      <td>audio_features</td>\n",
       "      <td>3h4T9Bg8OVSUYa6danHeH5</td>\n",
       "      <td>spotify:track:3h4T9Bg8OVSUYa6danHeH5</td>\n",
       "      <td>https://api.spotify.com/v1/tracks/3h4T9Bg8OVSU...</td>\n",
       "      <td>https://api.spotify.com/v1/audio-analysis/3h4T...</td>\n",
       "      <td>231013</td>\n",
       "      <td>4</td>\n",
       "    </tr>\n",
       "  </tbody>\n",
       "</table>\n",
       "<p>500 rows × 18 columns</p>\n",
       "</div>"
      ],
      "text/plain": [
       "     danceability  energy  key  loudness  mode  speechiness  acousticness  \\\n",
       "0           0.727   0.937   11    -2.871     0       0.2860      0.004170   \n",
       "1           0.664   0.705    1    -4.972     0       0.0382      0.065400   \n",
       "2           0.825   0.652    1    -3.183     0       0.0802      0.581000   \n",
       "3           0.781   0.445    2    -6.061     1       0.0295      0.474000   \n",
       "4           0.554   0.772    7    -4.821     0       0.0418      0.004870   \n",
       "..            ...     ...  ...       ...   ...          ...           ...   \n",
       "495         0.697   0.648    7    -7.123     1       0.1280      0.425000   \n",
       "496         0.949   0.661    5    -4.244     0       0.0572      0.030200   \n",
       "497         0.765   0.339    8    -8.965     1       0.0365      0.278000   \n",
       "498         0.726   0.652    1    -7.764     0       0.1100      0.004510   \n",
       "499         0.279   0.742    4    -6.460     0       0.0898      0.000185   \n",
       "\n",
       "     instrumentalness  liveness  valence    tempo            type  \\\n",
       "0            0.000000    0.0910    0.749  132.067  audio_features   \n",
       "1            0.000000    0.1180    0.477  122.016  audio_features   \n",
       "2            0.000000    0.0931    0.931   95.977  audio_features   \n",
       "3            0.000000    0.1840    0.591   78.998  audio_features   \n",
       "4            0.000007    0.3540    0.455  179.984  audio_features   \n",
       "..                ...       ...      ...      ...             ...   \n",
       "495          0.000000    0.1910    0.313  186.125  audio_features   \n",
       "496          0.000000    0.0454    0.760  104.504  audio_features   \n",
       "497          0.000000    0.1310    0.864  123.950  audio_features   \n",
       "498          0.000033    0.2260    0.803  163.879  audio_features   \n",
       "499          0.000000    0.5930    0.328  189.868  audio_features   \n",
       "\n",
       "                         id                                   uri  \\\n",
       "0    03UrZgTINDqvnUMbbIMhql  spotify:track:03UrZgTINDqvnUMbbIMhql   \n",
       "1    2tpWsVSb9UEmDRxAl1zhX1  spotify:track:2tpWsVSb9UEmDRxAl1zhX1   \n",
       "2    7qiZfU4dY1lWllzX7mPBI3  spotify:track:7qiZfU4dY1lWllzX7mPBI3   \n",
       "3    34gCuhDGsG4bRPIf9bb02f  spotify:track:34gCuhDGsG4bRPIf9bb02f   \n",
       "4    6F5c58TMEs1byxUstkzVeM  spotify:track:6F5c58TMEs1byxUstkzVeM   \n",
       "..                      ...                                   ...   \n",
       "495  6DPp7xKJ4WS71HldGA038M  spotify:track:6DPp7xKJ4WS71HldGA038M   \n",
       "496  3yfqSUWxFvZELEM4PmlwIR  spotify:track:3yfqSUWxFvZELEM4PmlwIR   \n",
       "497  1l77YWrGUp3qX3NS1rz7lq  spotify:track:1l77YWrGUp3qX3NS1rz7lq   \n",
       "498  6HGoVbCUr63SgU3TjxEVj6  spotify:track:6HGoVbCUr63SgU3TjxEVj6   \n",
       "499  3h4T9Bg8OVSUYa6danHeH5  spotify:track:3h4T9Bg8OVSUYa6danHeH5   \n",
       "\n",
       "                                            track_href  \\\n",
       "0    https://api.spotify.com/v1/tracks/03UrZgTINDqv...   \n",
       "1    https://api.spotify.com/v1/tracks/2tpWsVSb9UEm...   \n",
       "2    https://api.spotify.com/v1/tracks/7qiZfU4dY1lW...   \n",
       "3    https://api.spotify.com/v1/tracks/34gCuhDGsG4b...   \n",
       "4    https://api.spotify.com/v1/tracks/6F5c58TMEs1b...   \n",
       "..                                                 ...   \n",
       "495  https://api.spotify.com/v1/tracks/6DPp7xKJ4WS7...   \n",
       "496  https://api.spotify.com/v1/tracks/3yfqSUWxFvZE...   \n",
       "497  https://api.spotify.com/v1/tracks/1l77YWrGUp3q...   \n",
       "498  https://api.spotify.com/v1/tracks/6HGoVbCUr63S...   \n",
       "499  https://api.spotify.com/v1/tracks/3h4T9Bg8OVSU...   \n",
       "\n",
       "                                          analysis_url  duration_ms  \\\n",
       "0    https://api.spotify.com/v1/audio-analysis/03Ur...       219493   \n",
       "1    https://api.spotify.com/v1/audio-analysis/2tpW...       257267   \n",
       "2    https://api.spotify.com/v1/audio-analysis/7qiZ...       233713   \n",
       "3    https://api.spotify.com/v1/audio-analysis/34gC...       281560   \n",
       "4    https://api.spotify.com/v1/audio-analysis/6F5c...       223546   \n",
       "..                                                 ...          ...   \n",
       "495  https://api.spotify.com/v1/audio-analysis/6DPp...       199813   \n",
       "496  https://api.spotify.com/v1/audio-analysis/3yfq...       284200   \n",
       "497  https://api.spotify.com/v1/audio-analysis/1l77...       202560   \n",
       "498  https://api.spotify.com/v1/audio-analysis/6HGo...       180056   \n",
       "499  https://api.spotify.com/v1/audio-analysis/3h4T...       231013   \n",
       "\n",
       "     time_signature  \n",
       "0                 4  \n",
       "1                 4  \n",
       "2                 4  \n",
       "3                 4  \n",
       "4                 4  \n",
       "..              ...  \n",
       "495               4  \n",
       "496               4  \n",
       "497               4  \n",
       "498               4  \n",
       "499               4  \n",
       "\n",
       "[500 rows x 18 columns]"
      ]
     },
     "execution_count": 29,
     "metadata": {},
     "output_type": "execute_result"
    }
   ],
   "source": [
    "audio_features_1 = pd.DataFrame(audio_features_1, columns = ['danceability', 'energy', 'key', 'loudness', 'mode', 'speechiness', 'acousticness','instrumentalness', 'liveness', 'valence', 'tempo', 'type', 'id', 'uri', 'track_href', 'analysis_url', 'duration_ms', 'time_signature'])\n",
    "audio_features_1"
   ]
  },
  {
   "cell_type": "code",
   "execution_count": 30,
   "metadata": {},
   "outputs": [],
   "source": [
    "audio_features_1.to_csv(\"../data/raw/audio_features_1.csv\", index=False)"
   ]
  },
  {
   "cell_type": "markdown",
   "metadata": {},
   "source": [
    "🟩 Working on **`BATCH 2: 500-1000`**.\\\n",
    "🟩 Save to the file `audio_features_2.csv`."
   ]
  },
  {
   "cell_type": "code",
   "execution_count": 7,
   "metadata": {},
   "outputs": [],
   "source": [
    "audio_features_2 = audio_features_with_batch(track_ids, 500, 500)"
   ]
  },
  {
   "cell_type": "code",
   "execution_count": 9,
   "metadata": {},
   "outputs": [],
   "source": [
    "audio_features_2 = pd.DataFrame(audio_features_2, columns = ['danceability', 'energy', 'key', 'loudness', 'mode', 'speechiness', 'acousticness','instrumentalness', 'liveness', 'valence', 'tempo', 'type', 'id', 'uri', 'track_href', 'analysis_url', 'duration_ms', 'time_signature'])\n",
    "audio_features_2.to_csv(\"../data/raw/audio_features_2.csv\", index=False)"
   ]
  },
  {
   "cell_type": "markdown",
   "metadata": {},
   "source": [
    "🟦 Working on **`BATCH 3: 1000-1500`**.\\\n",
    "🟦 Save to the file `audio_features_3.csv`."
   ]
  },
  {
   "cell_type": "code",
   "execution_count": 10,
   "metadata": {},
   "outputs": [],
   "source": [
    "audio_features_3 = audio_features_with_batch(track_ids, 1000, 500)"
   ]
  },
  {
   "cell_type": "code",
   "execution_count": 11,
   "metadata": {},
   "outputs": [],
   "source": [
    "audio_features_3 = pd.DataFrame(audio_features_3, columns = ['danceability', 'energy', 'key', 'loudness', 'mode', 'speechiness', 'acousticness','instrumentalness', 'liveness', 'valence', 'tempo', 'type', 'id', 'uri', 'track_href', 'analysis_url', 'duration_ms', 'time_signature'])\n",
    "audio_features_3.to_csv(\"../data/raw/audio_features_3.csv\", index=False)"
   ]
  },
  {
   "cell_type": "markdown",
   "metadata": {},
   "source": [
    "🟪 Working on **`BATCH 4: 1500-2000`**.\\\n",
    "🟪 Save to the file `audio_features_4.csv`."
   ]
  },
  {
   "cell_type": "code",
   "execution_count": 6,
   "metadata": {},
   "outputs": [],
   "source": [
    "audio_features_4 = audio_features_with_batch(track_ids, 1500, 500)"
   ]
  },
  {
   "cell_type": "code",
   "execution_count": 7,
   "metadata": {},
   "outputs": [],
   "source": [
    "audio_features_4 = pd.DataFrame(audio_features_4, columns = ['danceability', 'energy', 'key', 'loudness', 'mode', 'speechiness', 'acousticness','instrumentalness', 'liveness', 'valence', 'tempo', 'type', 'id', 'uri', 'track_href', 'analysis_url', 'duration_ms', 'time_signature'])\n",
    "audio_features_4.to_csv(\"../data/raw/audio_features_4.csv\", index=False)"
   ]
  },
  {
   "cell_type": "markdown",
   "metadata": {},
   "source": [
    "🟫 Working on **`BATCH 5: 2000-2500`**.\\\n",
    "🟫 Save to the file `audio_features_5.csv`."
   ]
  },
  {
   "cell_type": "code",
   "execution_count": 8,
   "metadata": {},
   "outputs": [],
   "source": [
    "audio_features_5 = audio_features_with_batch(track_ids, 2000, 500)"
   ]
  },
  {
   "cell_type": "code",
   "execution_count": 9,
   "metadata": {},
   "outputs": [],
   "source": [
    "audio_features_5 = pd.DataFrame(audio_features_5, columns = ['danceability', 'energy', 'key', 'loudness', 'mode', 'speechiness', 'acousticness','instrumentalness', 'liveness', 'valence', 'tempo', 'type', 'id', 'uri', 'track_href', 'analysis_url', 'duration_ms', 'time_signature'])\n",
    "audio_features_5.to_csv(\"../data/raw/audio_features_5.csv\", index=False)"
   ]
  },
  {
   "cell_type": "markdown",
   "metadata": {},
   "source": [
    "<div style=\"text-align: left; font-family: 'Trebuchet MS', Arial, sans-serif; color: #FF90BC; padding: 20px; font-size: 38px; font-weight: bold; border-radius: 0 0 0 0\">\n",
    "  STEP 3: Gather data form 5 batches. 🔥\n",
    "</div>"
   ]
  },
  {
   "cell_type": "markdown",
   "metadata": {},
   "source": [
    "🔶🔶🔶 We gather all the data that saved from 5 batches and start to concatenate it.\\\n",
    "🔶🔶🔶 The final file produced is named `audio_features.csv`. \\\n",
    "🔶🔶🔶 This file is used for later phase."
   ]
  },
  {
   "cell_type": "code",
   "execution_count": 11,
   "metadata": {},
   "outputs": [],
   "source": [
    "auf_1 = pd.read_csv(\"../data/raw/audio_features_1.csv\")\n",
    "auf_2 = pd.read_csv(\"../data/raw/audio_features_2.csv\")\n",
    "auf_3 = pd.read_csv(\"../data/raw/audio_features_3.csv\")\n",
    "auf_4 = pd.read_csv(\"../data/raw/audio_features_4.csv\")\n",
    "auf_5 = pd.read_csv(\"../data/raw/audio_features_5.csv\")"
   ]
  },
  {
   "cell_type": "code",
   "execution_count": 15,
   "metadata": {},
   "outputs": [],
   "source": [
    "# Concatenate all audio features\n",
    "audio_features = pd.concat([auf_1, auf_2, auf_3, auf_4, auf_5])\n",
    "audio_features.to_csv(\"../data/raw/audio_features.csv\", index=False)"
   ]
  }
 ],
 "metadata": {
  "kernelspec": {
   "display_name": "base",
   "language": "python",
   "name": "python3"
  },
  "language_info": {
   "codemirror_mode": {
    "name": "ipython",
    "version": 3
   },
   "file_extension": ".py",
   "mimetype": "text/x-python",
   "name": "python",
   "nbconvert_exporter": "python",
   "pygments_lexer": "ipython3",
   "version": "3.10.13"
  }
 },
 "nbformat": 4,
 "nbformat_minor": 2
}
