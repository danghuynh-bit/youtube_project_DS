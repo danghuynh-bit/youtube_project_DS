{
 "cells": [
  {
   "cell_type": "code",
   "execution_count": 1,
   "metadata": {},
   "outputs": [],
   "source": [
    "#Necessary Packages\n",
    "import time\n",
    "import requests\n",
    "import numpy as np\n",
    "import pandas as pd \n",
    "from bs4 import BeautifulSoup"
   ]
  },
  {
   "cell_type": "code",
   "execution_count": 2,
   "metadata": {},
   "outputs": [],
   "source": [
    "def collect_data(course_urls_file):\n",
    "    url_file = open(course_urls_file)\n",
    "    urls = url_file.readlines()\n",
    "    urls_filtered = [item[:-1] for item in urls]\n",
    "    # print(urls_filtered)\n",
    "    \n",
    "    Title = []\n",
    "    Most_view_in4_1 = []\n",
    "    Most_view_in4_2 = []\n",
    "    Rank_in4_1 = []\n",
    "    Rank_in4_2 = []\n",
    "    Rank_in4_3 = []\n",
    "    Video_id = []\n",
    "\n",
    "    for url in urls_filtered:\n",
    "        html_content = requests.get(url)\n",
    "        soup = BeautifulSoup(html_content.content, \"lxml\")\n",
    "    \n",
    "        video_title = soup.title.text.split(\" – \")[0].split(\"YouTube Stats of \")[1]\n",
    "        Title.append(video_title)\n",
    "        \n",
    "        most_view_in4 = soup.text.split(\"Most views in a day: \")[1].split(\"\\n\")[0].split(\" \")\n",
    "        most_view_in4[0] = int(most_view_in4[0].replace(',', ''))\n",
    "        most_view_in4[1] = most_view_in4[1][1:-1]\n",
    "        Most_view_in4_1.append(most_view_in4[0])\n",
    "        Most_view_in4_2.append(most_view_in4[1])\n",
    "        \n",
    "        rank_in4 = soup.text.split(\"Peaked at #\")\n",
    "        if(len(rank_in4) == 1): \n",
    "            rank_in4 = ['nan', 'nan', 'nan']\n",
    "        elif(len(rank_in4[1].split(\"\\n\")[0].split(\" \")) <= 6):\n",
    "            rank_in4 = [rank_in4[1].split(\"\\n\")[0].split(\" \")[0], 'nan', rank_in4[1].split(\"\\n\")[0].split(\" \")[4]]\n",
    "        else: \n",
    "            rank_in4 = [rank_in4[1].split(\"\\n\")[0].split(\" \")[0], rank_in4[1].split(\"\\n\")[0].split(\" \")[2], rank_in4[1].split(\"\\n\")[0].split(\" \")[7]]\n",
    "\n",
    "        rank_in4[0] = float(rank_in4[0])\n",
    "        rank_in4[1] = float(rank_in4[1])\n",
    "        rank_in4[2] = float(rank_in4[2])\n",
    "        \n",
    "        Rank_in4_1.append(rank_in4[0])\n",
    "        Rank_in4_2.append(rank_in4[1])\n",
    "        Rank_in4_3.append(rank_in4[2])\n",
    "        \n",
    "        video_id = url[32:-5]\n",
    "        Video_id.append(video_id)\n",
    "    \n",
    "    data = pd.DataFrame({\"Title\": Title,\n",
    "                         \"Most view per day\": Most_view_in4_1,\n",
    "                         \"Most-view-date\": Most_view_in4_2, \n",
    "                         \"Highest rank\": Rank_in4_1,\n",
    "                         \"Time to Highest rank\": Rank_in4_2,\n",
    "                         \"Charted-duration\": Rank_in4_3, \n",
    "                         \"URL id:\": Video_id})\n",
    "    # print(data)\n",
    "    return data"
   ]
  },
  {
   "cell_type": "code",
   "execution_count": 4,
   "metadata": {},
   "outputs": [],
   "source": [
    "data_pokemon = collect_data(\"../data/kworb_video_url.txt\") \n",
    "data_pokemon.to_csv('raw_kworb_data.txt.csv', index = False)"
   ]
  }
 ],
 "metadata": {
  "kernelspec": {
   "display_name": "Python 3",
   "language": "python",
   "name": "python3"
  },
  "language_info": {
   "codemirror_mode": {
    "name": "ipython",
    "version": 3
   },
   "file_extension": ".py",
   "mimetype": "text/x-python",
   "name": "python",
   "nbconvert_exporter": "python",
   "pygments_lexer": "ipython3",
   "version": "3.11.3"
  }
 },
 "nbformat": 4,
 "nbformat_minor": 2
}
